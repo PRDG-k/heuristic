{
 "cells": [
  {
   "cell_type": "code",
   "execution_count": 51,
   "metadata": {},
   "outputs": [],
   "source": [
    "import os\n",
    "import pandas as pd\n",
    "\n",
    "current_directory = os.getcwd()\n",
    "parent_directory = os.path.dirname(current_directory) + \"/\"\n",
    "solList = [\"fcfs_solution.csv\", \"heuristicSol.csv\"]\n",
    "\n",
    "solution = pd.read_csv(parent_directory + solList[0], index_col=0)\n",
    "\n",
    "def count_using_port(row):\n",
    "    if (row['charge'] >= 0.41666) | (row['discharge'] >= 0.41666):\n",
    "        return 2\n",
    "    elif ((row['charge'] < 0.41666) & (row['charge'] > 0)) | ((row['discharge'] < 0.41666) & (row['discharge'] > 0)):\n",
    "        return 1\n",
    "    else:\n",
    "        return 0\n",
    "    \n",
    "def count_using_charger(row):\n",
    "    if row['port_count'] != 0:\n",
    "        return 1\n",
    "    else:\n",
    "        return 0\n",
    "\n",
    "def reform_schedule(row):\n",
    "    if row['consumption'] == 0:\n",
    "        return False\n",
    "    else:\n",
    "        return True\n",
    "    \n",
    "solution['port_count'] = solution.apply(count_using_port, axis =1)\n",
    "solution['charger_count'] = solution.apply(count_using_charger, axis = 1)\n",
    "solution['operation'] = solution.apply(reform_schedule, axis = 1)\n",
    "solution['departure'] = solution['operation'].shift(1) != solution['operation']  # True: 값이 바뀜, False: 바뀌지 않음\n",
    "\n",
    "# 값이 바뀌는 순간을 가지는 행만 선택\n",
    "departure_point = solution[solution['departure']]\n",
    "# departure_point = departure_point[::2]\n",
    "departure_point = departure_point[departure_point['operation'] == True]"
   ]
  },
  {
   "cell_type": "code",
   "execution_count": 52,
   "metadata": {},
   "outputs": [
    {
     "name": "stdout",
     "output_type": "stream",
     "text": [
      "\n",
      "Passed port resource constraint\n"
     ]
    }
   ],
   "source": [
    "### 포트 제약\n",
    "port_count = solution.groupby('period').sum()[['port_count']]\n",
    "charger_count = solution.groupby('period').sum()[['charger_count']]\n",
    "_p =charger_count[charger_count['charger_count'] > 30]\n",
    "_c =port_count[port_count['port_count'] > 60]\n",
    "\n",
    "if _p.empty & _c.empty:\n",
    "    print(f\"\\nPassed port resource constraint\")"
   ]
  },
  {
   "cell_type": "code",
   "execution_count": 53,
   "metadata": {},
   "outputs": [
    {
     "name": "stdout",
     "output_type": "stream",
     "text": [
      "Passed rorc constraint\n"
     ]
    }
   ],
   "source": [
    "count = 0\n",
    "problem_point = []\n",
    "for row in departure_point.itertuples():\n",
    "    if row.bus[0] != \"N\":\n",
    "        required = 250 * 0.7\n",
    "    else:\n",
    "        required = 350 * 0.7\n",
    "    \n",
    "    if row.SOC < required:\n",
    "        count += 1\n",
    "        problem_point.append(row)\n",
    "    else:\n",
    "        pass\n",
    "\n",
    "problem_df = pd.DataFrame(problem_point)\n",
    "\n",
    "if count != 0:\n",
    "    print(\"Failed rorc constraint\\n\")\n",
    "    print(problem_df)\n",
    "else:\n",
    "    print(\"Passed rorc constraint\")"
   ]
  },
  {
   "cell_type": "code",
   "execution_count": 50,
   "metadata": {},
   "outputs": [],
   "source": [
    "import matplotlib.pyplot as plt\n",
    "prob_bus = set(problem_df['bus'])\n",
    "\n",
    "for bus_name in prob_bus:\n",
    "    _sol = solution[solution['bus'] == bus_name]\n",
    "    _prob = problem_df[problem_df['bus'] == bus_name]\n",
    "\n",
    "    plt.title(f\"Bus: {bus_name} SOC change\")\n",
    "    plt.xlabel(\"Period\")\n",
    "    plt.ylabel(\"SOC(kwh)\")\n",
    "\n",
    "    plt.plot(_sol['period'], _sol['SOC'])\n",
    "    plt.scatter(_prob['period'], _prob['SOC'], color='red')\n",
    "    plt.savefig(f\"{bus_name}_SOC_change\")\n",
    "    plt.close()"
   ]
  }
 ],
 "metadata": {
  "kernelspec": {
   "display_name": "Python 3",
   "language": "python",
   "name": "python3"
  },
  "language_info": {
   "codemirror_mode": {
    "name": "ipython",
    "version": 3
   },
   "file_extension": ".py",
   "mimetype": "text/x-python",
   "name": "python",
   "nbconvert_exporter": "python",
   "pygments_lexer": "ipython3",
   "version": "3.9.6"
  }
 },
 "nbformat": 4,
 "nbformat_minor": 2
}
